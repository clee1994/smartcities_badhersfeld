{
 "cells": [
  {
   "cell_type": "code",
   "execution_count": null,
   "metadata": {
    "collapsed": true
   },
   "outputs": [],
   "source": [
    "with open('C:\\Users\\demreis3\\Documents\\smartcities_badhersfeld\\data\\BadHersfeldNoise\\4e6a9f3a-e8c0-4c6e-8cfd-9353c1972859') as json_data:\n",
    "   obj = json.load(json_data)\n",
    "   frame = pd.DataFrame(obj['sensordata'], columns=['lng', 'type','measurement','lat','sensorId','timestamp','SID','eventType'])\n",
    "\n"
   ]
  }
 ],
 "metadata": {
  "kernelspec": {
   "display_name": "Python 2",
   "language": "python",
   "name": "python2"
  },
  "language_info": {
   "codemirror_mode": {
    "name": "ipython",
    "version": 2
   },
   "file_extension": ".py",
   "mimetype": "text/x-python",
   "name": "python",
   "nbconvert_exporter": "python",
   "pygments_lexer": "ipython2",
   "version": "2.7.6"
  }
 },
 "nbformat": 4,
 "nbformat_minor": 0
}
